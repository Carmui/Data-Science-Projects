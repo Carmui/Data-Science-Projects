{
 "cells": [
  {
   "cell_type": "code",
   "execution_count": 1,
   "metadata": {},
   "outputs": [],
   "source": [
    "import pandas as pd\n",
    "import numpy as np\n",
    "import matplotlib.pyplot as plt\n",
    "from sklearn.linear_model import LinearRegression\n",
    "from scipy.stats import ttest_ind\n",
    "import statsmodels.api as sm"
   ]
  },
  {
   "cell_type": "code",
   "execution_count": 2,
   "metadata": {
    "scrolled": true
   },
   "outputs": [
    {
     "data": {
      "text/html": [
       "<div>\n",
       "<style scoped>\n",
       "    .dataframe tbody tr th:only-of-type {\n",
       "        vertical-align: middle;\n",
       "    }\n",
       "\n",
       "    .dataframe tbody tr th {\n",
       "        vertical-align: top;\n",
       "    }\n",
       "\n",
       "    .dataframe thead th {\n",
       "        text-align: right;\n",
       "    }\n",
       "</style>\n",
       "<table border=\"1\" class=\"dataframe\">\n",
       "  <thead>\n",
       "    <tr style=\"text-align: right;\">\n",
       "      <th></th>\n",
       "      <th>Stopa bezrobocia (X1)</th>\n",
       "      <th>Przeciętne miesięczne wydatki na osobę (X2)</th>\n",
       "    </tr>\n",
       "    <tr>\n",
       "      <th>Województwo</th>\n",
       "      <th></th>\n",
       "      <th></th>\n",
       "    </tr>\n",
       "  </thead>\n",
       "  <tbody>\n",
       "    <tr>\n",
       "      <td>DOLNOŚLĄSKIE</td>\n",
       "      <td>9.708333</td>\n",
       "      <td>1120.834545</td>\n",
       "    </tr>\n",
       "    <tr>\n",
       "      <td>KUJAWSKO-POMORSKIE</td>\n",
       "      <td>13.916667</td>\n",
       "      <td>979.980000</td>\n",
       "    </tr>\n",
       "    <tr>\n",
       "      <td>LUBELSKIE</td>\n",
       "      <td>11.483333</td>\n",
       "      <td>938.316364</td>\n",
       "    </tr>\n",
       "    <tr>\n",
       "      <td>LUBUSKIE</td>\n",
       "      <td>11.666667</td>\n",
       "      <td>1039.879091</td>\n",
       "    </tr>\n",
       "    <tr>\n",
       "      <td>ŁÓDZKIE</td>\n",
       "      <td>10.258333</td>\n",
       "      <td>1111.880909</td>\n",
       "    </tr>\n",
       "    <tr>\n",
       "      <td>MAŁOPOLSKIE</td>\n",
       "      <td>8.308333</td>\n",
       "      <td>980.346364</td>\n",
       "    </tr>\n",
       "    <tr>\n",
       "      <td>MAZOWIECKIE</td>\n",
       "      <td>8.116667</td>\n",
       "      <td>1328.315455</td>\n",
       "    </tr>\n",
       "    <tr>\n",
       "      <td>OPOLSKIE</td>\n",
       "      <td>10.708333</td>\n",
       "      <td>1092.571818</td>\n",
       "    </tr>\n",
       "    <tr>\n",
       "      <td>PODKARPACKIE</td>\n",
       "      <td>13.166667</td>\n",
       "      <td>866.733636</td>\n",
       "    </tr>\n",
       "    <tr>\n",
       "      <td>PODLASKIE</td>\n",
       "      <td>11.525000</td>\n",
       "      <td>939.570909</td>\n",
       "    </tr>\n",
       "    <tr>\n",
       "      <td>POMORSKIE</td>\n",
       "      <td>9.458333</td>\n",
       "      <td>1084.094545</td>\n",
       "    </tr>\n",
       "    <tr>\n",
       "      <td>ŚLĄSKIE</td>\n",
       "      <td>8.025000</td>\n",
       "      <td>1106.122727</td>\n",
       "    </tr>\n",
       "    <tr>\n",
       "      <td>ŚWIĘTOKRZYSKIE</td>\n",
       "      <td>12.850000</td>\n",
       "      <td>905.864545</td>\n",
       "    </tr>\n",
       "    <tr>\n",
       "      <td>WARMIŃSKO-MAZURSKIE</td>\n",
       "      <td>16.733333</td>\n",
       "      <td>903.096364</td>\n",
       "    </tr>\n",
       "    <tr>\n",
       "      <td>WIELKOPOLSKIE</td>\n",
       "      <td>6.800000</td>\n",
       "      <td>947.541818</td>\n",
       "    </tr>\n",
       "    <tr>\n",
       "      <td>ZACHODNIOPOMORSKIE</td>\n",
       "      <td>13.675000</td>\n",
       "      <td>1046.112727</td>\n",
       "    </tr>\n",
       "  </tbody>\n",
       "</table>\n",
       "</div>"
      ],
      "text/plain": [
       "                     Stopa bezrobocia (X1)  \\\n",
       "Województwo                                  \n",
       "DOLNOŚLĄSKIE                      9.708333   \n",
       "KUJAWSKO-POMORSKIE               13.916667   \n",
       "LUBELSKIE                        11.483333   \n",
       "LUBUSKIE                         11.666667   \n",
       "ŁÓDZKIE                          10.258333   \n",
       "MAŁOPOLSKIE                       8.308333   \n",
       "MAZOWIECKIE                       8.116667   \n",
       "OPOLSKIE                         10.708333   \n",
       "PODKARPACKIE                     13.166667   \n",
       "PODLASKIE                        11.525000   \n",
       "POMORSKIE                         9.458333   \n",
       "ŚLĄSKIE                           8.025000   \n",
       "ŚWIĘTOKRZYSKIE                   12.850000   \n",
       "WARMIŃSKO-MAZURSKIE              16.733333   \n",
       "WIELKOPOLSKIE                     6.800000   \n",
       "ZACHODNIOPOMORSKIE               13.675000   \n",
       "\n",
       "                     Przeciętne miesięczne wydatki na osobę (X2)  \n",
       "Województwo                                                       \n",
       "DOLNOŚLĄSKIE                                         1120.834545  \n",
       "KUJAWSKO-POMORSKIE                                    979.980000  \n",
       "LUBELSKIE                                             938.316364  \n",
       "LUBUSKIE                                             1039.879091  \n",
       "ŁÓDZKIE                                              1111.880909  \n",
       "MAŁOPOLSKIE                                           980.346364  \n",
       "MAZOWIECKIE                                          1328.315455  \n",
       "OPOLSKIE                                             1092.571818  \n",
       "PODKARPACKIE                                          866.733636  \n",
       "PODLASKIE                                             939.570909  \n",
       "POMORSKIE                                            1084.094545  \n",
       "ŚLĄSKIE                                              1106.122727  \n",
       "ŚWIĘTOKRZYSKIE                                        905.864545  \n",
       "WARMIŃSKO-MAZURSKIE                                   903.096364  \n",
       "WIELKOPOLSKIE                                         947.541818  \n",
       "ZACHODNIOPOMORSKIE                                   1046.112727  "
      ]
     },
     "execution_count": 2,
     "metadata": {},
     "output_type": "execute_result"
    }
   ],
   "source": [
    "data = pd.read_excel(\"Dane.xlsx\")\n",
    "data.set_index(\"Województwo\", inplace = True)\n",
    "data"
   ]
  },
  {
   "cell_type": "code",
   "execution_count": 3,
   "metadata": {
    "scrolled": true
   },
   "outputs": [
    {
     "data": {
      "text/html": [
       "<div>\n",
       "<style scoped>\n",
       "    .dataframe tbody tr th:only-of-type {\n",
       "        vertical-align: middle;\n",
       "    }\n",
       "\n",
       "    .dataframe tbody tr th {\n",
       "        vertical-align: top;\n",
       "    }\n",
       "\n",
       "    .dataframe thead th {\n",
       "        text-align: right;\n",
       "    }\n",
       "</style>\n",
       "<table border=\"1\" class=\"dataframe\">\n",
       "  <thead>\n",
       "    <tr style=\"text-align: right;\">\n",
       "      <th></th>\n",
       "      <th>Y</th>\n",
       "      <th>X</th>\n",
       "    </tr>\n",
       "    <tr>\n",
       "      <th>Województwo</th>\n",
       "      <th></th>\n",
       "      <th></th>\n",
       "    </tr>\n",
       "  </thead>\n",
       "  <tbody>\n",
       "    <tr>\n",
       "      <td>DOLNOŚLĄSKIE</td>\n",
       "      <td>9.708333</td>\n",
       "      <td>1120.834545</td>\n",
       "    </tr>\n",
       "    <tr>\n",
       "      <td>KUJAWSKO-POMORSKIE</td>\n",
       "      <td>13.916667</td>\n",
       "      <td>979.980000</td>\n",
       "    </tr>\n",
       "    <tr>\n",
       "      <td>LUBELSKIE</td>\n",
       "      <td>11.483333</td>\n",
       "      <td>938.316364</td>\n",
       "    </tr>\n",
       "    <tr>\n",
       "      <td>LUBUSKIE</td>\n",
       "      <td>11.666667</td>\n",
       "      <td>1039.879091</td>\n",
       "    </tr>\n",
       "    <tr>\n",
       "      <td>ŁÓDZKIE</td>\n",
       "      <td>10.258333</td>\n",
       "      <td>1111.880909</td>\n",
       "    </tr>\n",
       "  </tbody>\n",
       "</table>\n",
       "</div>"
      ],
      "text/plain": [
       "                            Y            X\n",
       "Województwo                               \n",
       "DOLNOŚLĄSKIE         9.708333  1120.834545\n",
       "KUJAWSKO-POMORSKIE  13.916667   979.980000\n",
       "LUBELSKIE           11.483333   938.316364\n",
       "LUBUSKIE            11.666667  1039.879091\n",
       "ŁÓDZKIE             10.258333  1111.880909"
      ]
     },
     "execution_count": 3,
     "metadata": {},
     "output_type": "execute_result"
    }
   ],
   "source": [
    "data.rename(columns = {\"Stopa bezrobocia (X1)\" : \"Y\", \"Przeciętne miesięczne wydatki na osobę (X2)\" : \"X\"}, inplace = True)\n",
    "data.head()"
   ]
  },
  {
   "cell_type": "code",
   "execution_count": 4,
   "metadata": {},
   "outputs": [],
   "source": [
    "y = data['Y'].values\n",
    "x = data['X'].values.reshape(-1,1)"
   ]
  },
  {
   "cell_type": "code",
   "execution_count": 5,
   "metadata": {},
   "outputs": [],
   "source": [
    "model = LinearRegression()"
   ]
  },
  {
   "cell_type": "code",
   "execution_count": 7,
   "metadata": {},
   "outputs": [
    {
     "data": {
      "text/plain": [
       "LinearRegression(copy_X=True, fit_intercept=True, n_jobs=None, normalize=False)"
      ]
     },
     "execution_count": 7,
     "metadata": {},
     "output_type": "execute_result"
    }
   ],
   "source": [
    "# Calculating the optimal values of the weights b0, b1\n",
    "model.fit(x,y)"
   ]
  },
  {
   "cell_type": "code",
   "execution_count": 8,
   "metadata": {},
   "outputs": [],
   "source": [
    "model = LinearRegression().fit(x,y)"
   ]
  },
  {
   "cell_type": "code",
   "execution_count": 9,
   "metadata": {
    "scrolled": true
   },
   "outputs": [
    {
     "name": "stdout",
     "output_type": "stream",
     "text": [
      "Coefficient of determination:  0.2682042740386431\n"
     ]
    }
   ],
   "source": [
    "R2 = model.score(x,y)\n",
    "print('Coefficient of determination: ', R2)"
   ]
  },
  {
   "cell_type": "code",
   "execution_count": 10,
   "metadata": {},
   "outputs": [
    {
     "name": "stdout",
     "output_type": "stream",
     "text": [
      "intercept:  23.053248729375852\n",
      "coefficients:  [-0.01174113]\n"
     ]
    }
   ],
   "source": [
    "# As we can see the coefficient of determination is pretty low (26,8%)\n",
    "# it means that unemployment rate explains 26,8% of average mothly expenses variance\n",
    "# So 73,2% is explained by the other attributes \n",
    "print('intercept: ', model.intercept_)\n",
    "print('coefficients: ', model.coef_)"
   ]
  },
  {
   "cell_type": "code",
   "execution_count": 11,
   "metadata": {},
   "outputs": [
    {
     "name": "stdout",
     "output_type": "stream",
     "text": [
      "Predicted response: \n",
      "[ 9.89338163 11.54717353 12.03635182 10.84389036  9.99850746 11.54287201\n",
      "  7.45732075 10.22521806 12.87681411 12.02162203 10.32475084 10.06611504\n",
      " 12.41737292 12.44987451 11.92803453 10.77070041]\n"
     ]
    }
   ],
   "source": [
    "# The code above illustrates b0 and b1 parameters. \n",
    "# b0 = 23,05 and b1 = -0,011\n",
    "y_pred = model.predict(x)\n",
    "print('Predicted response: ', y_pred, sep = '\\n')"
   ]
  },
  {
   "cell_type": "code",
   "execution_count": 12,
   "metadata": {},
   "outputs": [
    {
     "data": {
      "text/plain": [
       "<function matplotlib.pyplot.show(*args, **kw)>"
      ]
     },
     "execution_count": 12,
     "metadata": {},
     "output_type": "execute_result"
    },
    {
     "data": {
      "image/png": "[encoded data removed]",
      "text/plain": [
       "<Figure size 1152x576 with 1 Axes>"
      ]
     },
     "metadata": {
      "needs_background": "light"
     },
     "output_type": "display_data"
    }
   ],
   "source": [
    "# What is the plot of our data:\n",
    "plt.figure(figsize = (16,8))\n",
    "plt.scatter(x, y, c = 'black')\n",
    "plt.xlabel(\"Average expenses\")\n",
    "plt.ylabel(\"Unemployment rate\")\n",
    "plt.show"
   ]
  },
  {
   "cell_type": "code",
   "execution_count": 13,
   "metadata": {},
   "outputs": [
    {
     "data": {
      "text/plain": [
       "<function matplotlib.pyplot.show(*args, **kw)>"
      ]
     },
     "execution_count": 13,
     "metadata": {},
     "output_type": "execute_result"
    },
    {
     "data": {
      "image/png": "[encoded data removed]",
      "text/plain": [
       "<Figure size 1152x576 with 1 Axes>"
      ]
     },
     "metadata": {
      "needs_background": "light"
     },
     "output_type": "display_data"
    }
   ],
   "source": [
    "# And now lets try to fit it with our linear approximation \n",
    "plt.figure(figsize = (16,8))\n",
    "plt.scatter(x, y, c = 'black')\n",
    "plt.plot(x, y_pred, linewidth = 2, c = 'r')\n",
    "plt.xlabel(\"Average expenses\")\n",
    "plt.ylabel(\"Unemployment rate\")\n",
    "plt.show"
   ]
  },
  {
   "cell_type": "code",
   "execution_count": 14,
   "metadata": {},
   "outputs": [
    {
     "name": "stdout",
     "output_type": "stream",
     "text": [
      "                            OLS Regression Results                            \n",
      "==============================================================================\n",
      "Dep. Variable:                      y   R-squared:                       0.268\n",
      "Model:                            OLS   Adj. R-squared:                  0.216\n",
      "Method:                 Least Squares   F-statistic:                     5.131\n",
      "Date:                Thu, 21 May 2020   Prob (F-statistic):             0.0399\n",
      "Time:                        12:39:42   Log-Likelihood:                -35.204\n",
      "No. Observations:                  16   AIC:                             74.41\n",
      "Df Residuals:                      14   BIC:                             75.95\n",
      "Df Model:                           1                                         \n",
      "Covariance Type:            nonrobust                                         \n",
      "==============================================================================\n",
      "                 coef    std err          t      P>|t|      [0.025      0.975]\n",
      "------------------------------------------------------------------------------\n",
      "const         23.0532      5.342      4.315      0.001      11.596      34.511\n",
      "x1            -0.0117      0.005     -2.265      0.040      -0.023      -0.001\n",
      "==============================================================================\n",
      "Omnibus:                        1.847   Durbin-Watson:                   2.893\n",
      "Prob(Omnibus):                  0.397   Jarque-Bera (JB):                0.492\n",
      "Skew:                          -0.364   Prob(JB):                        0.782\n",
      "Kurtosis:                       3.457   Cond. No.                     9.43e+03\n",
      "==============================================================================\n",
      "\n",
      "Warnings:\n",
      "[1] Standard Errors assume that the covariance matrix of the errors is correctly specified.\n",
      "[2] The condition number is large, 9.43e+03. This might indicate that there are\n",
      "strong multicollinearity or other numerical problems.\n"
     ]
    },
    {
     "name": "stderr",
     "output_type": "stream",
     "text": [
      "C:\\Users\\Mateusz\\Anaconda3\\lib\\site-packages\\scipy\\stats\\stats.py:1450: UserWarning: kurtosistest only valid for n>=20 ... continuing anyway, n=16\n",
      "  \"anyway, n=%i\" % int(n))\n"
     ]
    }
   ],
   "source": [
    "# Getting the whole summation\n",
    "x2 = sm.add_constant(x)\n",
    "est = sm.OLS(y, x2)\n",
    "est2 = est.fit()\n",
    "print(est2.summary())"
   ]
  },
  {
   "cell_type": "markdown",
   "metadata": {},
   "source": [
    "### To conclude we have our x1 parameter statisticaly significant at the 0,05 level"
   ]
  }
 ],
 "metadata": {
  "kernelspec": {
   "display_name": "Python 3",
   "language": "python",
   "name": "python3"
  },
  "language_info": {
   "codemirror_mode": {
    "name": "ipython",
    "version": 3
   },
   "file_extension": ".py",
   "mimetype": "text/x-python",
   "name": "python",
   "nbconvert_exporter": "python",
   "pygments_lexer": "ipython3",
   "version": "3.7.4"
  }
 },
 "nbformat": 4,
 "nbformat_minor": 2
}
